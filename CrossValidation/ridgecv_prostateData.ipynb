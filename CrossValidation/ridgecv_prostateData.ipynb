{
 "cells": [
  {
   "cell_type": "code",
   "execution_count": 24,
   "metadata": {},
   "outputs": [],
   "source": [
    "import pandas as pd\n",
    "from sklearn.metrics import mean_squared_error, r2_score\n",
    "from sklearn.linear_model import RidgeCV\n",
    "from sklearn.linear_model import Ridge\n",
    "import matplotlib.pyplot as plt\n",
    "%matplotlib inline"
   ]
  },
  {
   "cell_type": "code",
   "execution_count": 25,
   "metadata": {},
   "outputs": [],
   "source": [
    "data = pd.read_table('prostate.data',sep = '\\t')\n",
    "\n",
    "\n",
    "\n",
    "train = data.loc[data['train'] == 'T']\n",
    "test = data.loc[data['train'] == 'F']\n",
    "\n",
    "#train.reset_index()\n",
    "#test.reset_index(drop=True,inplace=False)\n",
    "\n",
    "prostate_X_train = train.iloc[:,1:9]\n",
    "prostate_y_train= train.iloc[:,9:10]\n",
    "\n",
    "prostate_X_test = test.iloc[:,1:9]\n",
    "prostate_y_test= test.iloc[:,9:10]\n"
   ]
  },
  {
   "cell_type": "code",
   "execution_count": 26,
   "metadata": {},
   "outputs": [
    {
     "name": "stdout",
     "output_type": "stream",
     "text": [
      "Best alpha value:  1.0\n",
      "Mean squared error with 8 predictors: 0.52\n",
      "R square with 8 predictors : 0.50\n"
     ]
    },
    {
     "data": {
      "image/png": "[encoded data removed]",
      "text/plain": [
       "<Figure size 432x288 with 1 Axes>"
      ]
     },
     "metadata": {},
     "output_type": "display_data"
    }
   ],
   "source": [
    "\n",
    "clf = RidgeCV(alphas=[1e-3, 1e-2, 1e-1, 1,10,100]).fit(prostate_X_train, prostate_y_train)\n",
    "print(\"Best alpha value: \",  clf.alpha_ )\n",
    "\n",
    "\n",
    "coef_df = pd.DataFrame(clf.coef_)\n",
    "coef_df.columns = prostate_X_train.columns\n",
    "coef_df.plot(kind='bar',title='coefficient plot')\n",
    "prostate_y_pred = clf.predict(prostate_X_test)\n",
    "\n",
    "# The mean squared error\n",
    "print(\"Mean squared error with 8 predictors: %.2f\" % mean_squared_error(prostate_y_test, prostate_y_pred))\n",
    "#Explained variance score: 1 is perfect prediction\n",
    "print('R square with 8 predictors : %.2f' % r2_score(prostate_y_test, prostate_y_pred))\n"
   ]
  },
  {
   "cell_type": "code",
   "execution_count": 27,
   "metadata": {},
   "outputs": [
    {
     "name": "stdout",
     "output_type": "stream",
     "text": [
      "Mean squared error with 3 predictors: 0.40\n",
      "R square with 3 predictors: 0.62\n"
     ]
    }
   ],
   "source": [
    "prostate_X_train = train.iloc[:,[1,2,5]]\n",
    "prostate_y_train= train.iloc[:,9:10]\n",
    "\n",
    "\n",
    "prostate_X_test = test.iloc[:,[1,2,5]]\n",
    "prostate_y_test= test.iloc[:,9:10]\n",
    "\n",
    "clf = Ridge(alpha=1.0)\n",
    "clf.fit(prostate_X_train, prostate_y_train)\n",
    "prostate_y_pred = clf.predict(prostate_X_test)\n",
    "# The mean squared error\n",
    "print(\"Mean squared error with 3 predictors: %.2f\" % mean_squared_error(prostate_y_test, prostate_y_pred))\n",
    "#Explained variance score: 1 is perfect prediction\n",
    "print('R square with 3 predictors: %.2f' % r2_score(prostate_y_test, prostate_y_pred))\n"
   ]
  }
 ],
 "metadata": {
  "kernelspec": {
   "display_name": "Python 3",
   "language": "python",
   "name": "python3"
  },
  "language_info": {
   "codemirror_mode": {
    "name": "ipython",
    "version": 3
   },
   "file_extension": ".py",
   "mimetype": "text/x-python",
   "name": "python",
   "nbconvert_exporter": "python",
   "pygments_lexer": "ipython3",
   "version": "3.6.5"
  }
 },
 "nbformat": 4,
 "nbformat_minor": 2
}
