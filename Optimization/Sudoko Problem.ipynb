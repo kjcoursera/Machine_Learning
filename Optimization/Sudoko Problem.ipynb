{
 "cells": [
  {
   "cell_type": "code",
   "execution_count": 1,
   "metadata": {},
   "outputs": [],
   "source": [
    "from pulp import *"
   ]
  },
  {
   "cell_type": "code",
   "execution_count": 2,
   "metadata": {},
   "outputs": [],
   "source": [
    "VALS = ROWS = COLS = range(1,10)"
   ]
  },
  {
   "cell_type": "code",
   "execution_count": 3,
   "metadata": {},
   "outputs": [],
   "source": [
    "Boxes = [\n",
    "    [(3 * i + k + 1, 3 * j + l + 1) for k in range(3) for l in range(3)]\n",
    "    for i in range(3) for j in range(3)\n",
    "]"
   ]
  },
  {
   "cell_type": "code",
   "execution_count": 4,
   "metadata": {},
   "outputs": [
    {
     "name": "stdout",
     "output_type": "stream",
     "text": [
      "[[(1, 1), (1, 2), (1, 3), (2, 1), (2, 2), (2, 3), (3, 1), (3, 2), (3, 3)], [(1, 4), (1, 5), (1, 6), (2, 4), (2, 5), (2, 6), (3, 4), (3, 5), (3, 6)], [(1, 7), (1, 8), (1, 9), (2, 7), (2, 8), (2, 9), (3, 7), (3, 8), (3, 9)], [(4, 1), (4, 2), (4, 3), (5, 1), (5, 2), (5, 3), (6, 1), (6, 2), (6, 3)], [(4, 4), (4, 5), (4, 6), (5, 4), (5, 5), (5, 6), (6, 4), (6, 5), (6, 6)], [(4, 7), (4, 8), (4, 9), (5, 7), (5, 8), (5, 9), (6, 7), (6, 8), (6, 9)], [(7, 1), (7, 2), (7, 3), (8, 1), (8, 2), (8, 3), (9, 1), (9, 2), (9, 3)], [(7, 4), (7, 5), (7, 6), (8, 4), (8, 5), (8, 6), (9, 4), (9, 5), (9, 6)], [(7, 7), (7, 8), (7, 9), (8, 7), (8, 8), (8, 9), (9, 7), (9, 8), (9, 9)]]\n"
     ]
    }
   ],
   "source": [
    "print(Boxes)"
   ]
  },
  {
   "cell_type": "code",
   "execution_count": 5,
   "metadata": {},
   "outputs": [
    {
     "data": {
      "text/plain": [
       "[0, 1, 2]"
      ]
     },
     "execution_count": 5,
     "metadata": {},
     "output_type": "execute_result"
    }
   ],
   "source": [
    "[k for k in range(3)]"
   ]
  },
  {
   "cell_type": "code",
   "execution_count": 6,
   "metadata": {},
   "outputs": [
    {
     "data": {
      "text/plain": [
       "[0, 3, 6]"
      ]
     },
     "execution_count": 6,
     "metadata": {},
     "output_type": "execute_result"
    }
   ],
   "source": [
    "[3*k for k in range(3)]"
   ]
  },
  {
   "cell_type": "code",
   "execution_count": 7,
   "metadata": {},
   "outputs": [
    {
     "data": {
      "text/plain": [
       "[1, 4, 7]"
      ]
     },
     "execution_count": 7,
     "metadata": {},
     "output_type": "execute_result"
    }
   ],
   "source": [
    "[3*k+1 for k in range(3)]"
   ]
  },
  {
   "cell_type": "code",
   "execution_count": 8,
   "metadata": {},
   "outputs": [
    {
     "data": {
      "text/plain": [
       "[[1, 4, 7], [1, 4, 7], [1, 4, 7]]"
      ]
     },
     "execution_count": 8,
     "metadata": {},
     "output_type": "execute_result"
    }
   ],
   "source": [
    "[[3*k+1 for k in range(3)]for i in range(3)]"
   ]
  },
  {
   "cell_type": "code",
   "execution_count": 9,
   "metadata": {},
   "outputs": [
    {
     "data": {
      "text/plain": [
       "[[1, 4, 7], [2, 5, 8], [3, 6, 9]]"
      ]
     },
     "execution_count": 9,
     "metadata": {},
     "output_type": "execute_result"
    }
   ],
   "source": [
    "[[3*k+i+1 for k in range(3)]for i in range(3)]"
   ]
  },
  {
   "cell_type": "code",
   "execution_count": 10,
   "metadata": {},
   "outputs": [
    {
     "data": {
      "text/plain": [
       "[[1, 4, 7], [2, 5, 8], [3, 6, 9]]"
      ]
     },
     "execution_count": 10,
     "metadata": {},
     "output_type": "execute_result"
    }
   ],
   "source": [
    "[[3*l+j+1 for l in range(3)]for j in range(3)]"
   ]
  },
  {
   "cell_type": "code",
   "execution_count": 11,
   "metadata": {},
   "outputs": [
    {
     "data": {
      "text/plain": [
       "[(1, 1), (1, 4), (1, 7), (4, 1), (4, 4), (4, 7), (7, 1), (7, 4), (7, 7)]"
      ]
     },
     "execution_count": 11,
     "metadata": {},
     "output_type": "execute_result"
    }
   ],
   "source": [
    "[(3*k+1, 3*l+1) for k in range(3) for l in range(3)]"
   ]
  },
  {
   "cell_type": "code",
   "execution_count": 12,
   "metadata": {},
   "outputs": [
    {
     "data": {
      "text/plain": [
       "[[(1, 1), (1, 4), (1, 7), (2, 1), (2, 4), (2, 7), (3, 1), (3, 4), (3, 7)],\n",
       " [(4, 1), (4, 4), (4, 7), (5, 1), (5, 4), (5, 7), (6, 1), (6, 4), (6, 7)],\n",
       " [(7, 1), (7, 4), (7, 7), (8, 1), (8, 4), (8, 7), (9, 1), (9, 4), (9, 7)]]"
      ]
     },
     "execution_count": 12,
     "metadata": {},
     "output_type": "execute_result"
    }
   ],
   "source": [
    "[[(3*i+k+1, 3*l+1) for k in range(3) \n",
    "  for l in range(3)]for i in range(3)]"
   ]
  },
  {
   "cell_type": "code",
   "execution_count": 13,
   "metadata": {},
   "outputs": [
    {
     "data": {
      "text/plain": [
       "[[(1, 1), (1, 2), (1, 3), (2, 1), (2, 2), (2, 3), (3, 1), (3, 2), (3, 3)],\n",
       " [(1, 4), (1, 5), (1, 6), (2, 4), (2, 5), (2, 6), (3, 4), (3, 5), (3, 6)],\n",
       " [(1, 7), (1, 8), (1, 9), (2, 7), (2, 8), (2, 9), (3, 7), (3, 8), (3, 9)],\n",
       " [(4, 1), (4, 2), (4, 3), (5, 1), (5, 2), (5, 3), (6, 1), (6, 2), (6, 3)],\n",
       " [(4, 4), (4, 5), (4, 6), (5, 4), (5, 5), (5, 6), (6, 4), (6, 5), (6, 6)],\n",
       " [(4, 7), (4, 8), (4, 9), (5, 7), (5, 8), (5, 9), (6, 7), (6, 8), (6, 9)],\n",
       " [(7, 1), (7, 2), (7, 3), (8, 1), (8, 2), (8, 3), (9, 1), (9, 2), (9, 3)],\n",
       " [(7, 4), (7, 5), (7, 6), (8, 4), (8, 5), (8, 6), (9, 4), (9, 5), (9, 6)],\n",
       " [(7, 7), (7, 8), (7, 9), (8, 7), (8, 8), (8, 9), (9, 7), (9, 8), (9, 9)]]"
      ]
     },
     "execution_count": 13,
     "metadata": {},
     "output_type": "execute_result"
    }
   ],
   "source": [
    "[[(3*i+k+1, 3*j+l+1) for k in range(3) \n",
    "  for l in range(3)]for i in range(3) for j in range(3)]\n",
    "\n"
   ]
  },
  {
   "cell_type": "code",
   "execution_count": 14,
   "metadata": {},
   "outputs": [],
   "source": [
    "prob = LpProblem(\"Sudoku Problem\")"
   ]
  },
  {
   "cell_type": "code",
   "execution_count": 15,
   "metadata": {},
   "outputs": [],
   "source": [
    "choices = LpVariable.dicts(\"Choice\", (VALS, ROWS, COLS), cat='Binary')"
   ]
  },
  {
   "cell_type": "code",
   "execution_count": 16,
   "metadata": {},
   "outputs": [],
   "source": [
    "for r in ROWS:\n",
    "    for c in COLS:\n",
    "        prob += lpSum([choices[v][r][c] for v in VALS]) == 1"
   ]
  },
  {
   "cell_type": "code",
   "execution_count": 17,
   "metadata": {},
   "outputs": [],
   "source": [
    "for v in VALS:\n",
    "    for r in ROWS:\n",
    "        prob += lpSum([choices[v][r][c] for c in VALS]) == 1\n",
    "        \n",
    "    for c in COLS:\n",
    "        prob += lpSum([choices[v][r][c] for r in ROWS ]) == 1\n",
    "    \n",
    "    for b in Boxes:\n",
    "        prob += lpSum([choices[v][r][c] for (r,c) in b]) == 1\n",
    "        \n",
    "        "
   ]
  },
  {
   "cell_type": "code",
   "execution_count": 18,
   "metadata": {},
   "outputs": [],
   "source": [
    "input_data = [\n",
    "    (5, 1, 1),\n",
    "    (6, 2, 1),\n",
    "    (8, 4, 1),\n",
    "    (4, 5, 1),\n",
    "    (7, 6, 1),\n",
    "    (3, 1, 2),\n",
    "    (9, 3, 2),\n",
    "    (6, 7, 2),\n",
    "    (8, 3, 3),\n",
    "    (1, 2, 4),\n",
    "    (8, 5, 4),\n",
    "    (4, 8, 4),\n",
    "    (7, 1, 5),\n",
    "    (9, 2, 5),\n",
    "    (6, 4, 5),\n",
    "    (2, 6, 5),\n",
    "    (1, 8, 5),\n",
    "    (8, 9, 5),\n",
    "    (5, 2, 6),\n",
    "    (3, 5, 6),\n",
    "    (9, 8, 6),\n",
    "    (2, 7, 7),\n",
    "    (6, 3, 8),\n",
    "    (8, 7, 8),\n",
    "    (7, 9, 8),\n",
    "    (3, 4, 9),\n",
    "    # Since the previous Sudoku contains only one unique solution, we remove some numers from the board to obtain a\n",
    "    # Sudoku with multiple solutions\n",
    "#    (1, 5, 9),\n",
    "#    (6, 6, 9),\n",
    "#    (5, 8, 9)\n",
    "]\n"
   ]
  },
  {
   "cell_type": "code",
   "execution_count": 19,
   "metadata": {},
   "outputs": [],
   "source": [
    "for (v,r,c) in input_data:\n",
    "    prob += choices[v][r][c] == 1"
   ]
  },
  {
   "cell_type": "code",
   "execution_count": 20,
   "metadata": {},
   "outputs": [],
   "source": [
    "prob.writeLP(\"Sudoku.lp\")"
   ]
  },
  {
   "cell_type": "code",
   "execution_count": 21,
   "metadata": {},
   "outputs": [],
   "source": [
    "sudokuout = open('sudokuout.txt','w')"
   ]
  },
  {
   "cell_type": "code",
   "execution_count": 22,
   "metadata": {},
   "outputs": [
    {
     "name": "stdout",
     "output_type": "stream",
     "text": [
      "Status: Optimal\n",
      "Status: Optimal\n",
      "Status: Optimal\n",
      "Status: Optimal\n",
      "Status: Optimal\n",
      "Status: Optimal\n",
      "Status: Optimal\n",
      "Status: Optimal\n",
      "Status: Optimal\n",
      "Status: Optimal\n",
      "Status: Optimal\n",
      "Status: Optimal\n",
      "Status: Undefined\n"
     ]
    }
   ],
   "source": [
    "while True:\n",
    "    prob.solve()\n",
    "    # The status of the solution is printed to the screen\n",
    "    print(\"Status:\", LpStatus[prob.status])\n",
    "    # The solution is printed if it was deemed \"optimal\" i.e met the constraints\n",
    "    if LpStatus[prob.status] == \"Optimal\":\n",
    "        # The solution is written to the sudokuout.txt file\n",
    "        for r in ROWS:\n",
    "            if r in [1, 4, 7]:\n",
    "                sudokuout.write(\"+-------+-------+-------+\\n\")\n",
    "            for c in COLS:\n",
    "                for v in VALS:\n",
    "                    if value(choices[v][r][c]) == 1:\n",
    "                        if c in [1, 4, 7]:\n",
    "                            sudokuout.write(\"| \")\n",
    "                        sudokuout.write(str(v) + \" \")\n",
    "                        if c == 9:\n",
    "                            sudokuout.write(\"|\\n\")\n",
    "        sudokuout.write(\"+-------+-------+-------+\\n\\n\")\n",
    "        # The constraint is added that the same solution cannot be returned again\n",
    "        prob += lpSum([choices[v][r][c] for v in VALS for r in ROWS for c in COLS\n",
    "                       if value(choices[v][r][c]) == 1]) <= 80\n",
    "    # If a new optimal solution cannot be found, we end the program\n",
    "    else:\n",
    "        break\n",
    "sudokuout.close()\n"
   ]
  },
  {
   "cell_type": "code",
   "execution_count": 23,
   "metadata": {},
   "outputs": [
    {
     "name": "stdout",
     "output_type": "stream",
     "text": [
      "Solutions Written to sudokuout.txt\n"
     ]
    }
   ],
   "source": [
    "print(\"Solutions Written to sudokuout.txt\")"
   ]
  },
  {
   "cell_type": "code",
   "execution_count": null,
   "metadata": {},
   "outputs": [],
   "source": []
  }
 ],
 "metadata": {
  "kernelspec": {
   "display_name": "Python 3",
   "language": "python",
   "name": "python3"
  },
  "language_info": {
   "codemirror_mode": {
    "name": "ipython",
    "version": 3
   },
   "file_extension": ".py",
   "mimetype": "text/x-python",
   "name": "python",
   "nbconvert_exporter": "python",
   "pygments_lexer": "ipython3",
   "version": "3.6.8"
  }
 },
 "nbformat": 4,
 "nbformat_minor": 2
}
