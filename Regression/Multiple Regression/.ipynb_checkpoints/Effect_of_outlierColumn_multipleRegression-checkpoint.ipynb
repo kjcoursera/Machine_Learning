{
 "cells": [
  {
   "cell_type": "code",
   "execution_count": 32,
   "metadata": {},
   "outputs": [],
   "source": [
    "import numpy as np\n",
    "import pandas as pd\n",
    "from sklearn.metrics import mean_squared_error\n",
    "from sklearn import linear_model\n",
    "from scipy import stats\n",
    "from statsmodels.stats.outliers_influence import variance_inflation_factor\n",
    "import seaborn as sns; sns.set(color_codes=True)\n"
   ]
  },
  {
   "cell_type": "code",
   "execution_count": 33,
   "metadata": {},
   "outputs": [],
   "source": [
    "def calculate_train_error(X_train,y_train,model):\n",
    "    pred = model.predict(X_train)\n",
    "    mse = mean_squared_error(pred,y_train)\n",
    "    \n",
    "    return mse\n",
    "\n",
    "\n",
    "def calculate_validation_error(X_test,y_test,model):\n",
    "    pred = model.predict(X_test)\n",
    "    mse = mean_squared_error(pred,y_test)\n",
    "    \n",
    "    return mse\n",
    "    \n",
    "\n",
    "def calc_metrics(X_train, y_train,X_test,y_test,model):\n",
    "    model.fit(X_train,y_train)\n",
    "    train_error = calculate_train_error(X_train,y_train,model)\n",
    "    validation_error = calculate_validation_error(X_test,y_test,model)\n",
    "    return train_error,validation_error\n",
    "\n",
    "\n",
    "\n",
    "def calculate_vif(X, thresh=5.0):\n",
    "        # Taken from https://stats.stackexchange.com/a/253620/53565 and modified\n",
    "        dropped=True\n",
    "        while dropped:\n",
    "            variables = X.columns\n",
    "            dropped = False\n",
    "            vif = [variance_inflation_factor(X[variables].values, X.columns.get_loc(var)) for var in X.columns]\n",
    "            \n",
    "            max_vif = max(vif)\n",
    "            if max_vif > thresh:\n",
    "                \n",
    "                maxloc = vif.index(max_vif)\n",
    "                print(f'Dropping {X.columns[maxloc]} with vif={max_vif}')\n",
    "                X = X.drop([X.columns.tolist()[maxloc]], axis=1)\n",
    "                dropped=True\n",
    "                \n",
    "        return X\n",
    "    \n",
    "    \n",
    "def removeVIF(X_train, y_train,X_test,y_test,model):\n",
    "    X_train = calculate_vif(X_train)\n",
    "    X_test = X_test.loc[:, list(X_train)]\n",
    "    train_error,validation_error = calc_metrics(X_train, y_train,X_test,y_test,model)\n",
    "    return train_error,validation_error\n",
    "\n",
    "\n",
    "\n",
    "\n",
    "def removeoutliers(X_train, y_train,X_test,y_test,model):\n",
    "    df=pd.concat([X_train,y_train],axis=1)\n",
    "    df=df[(np.abs(stats.zscore(df)) < 3).all(axis=1)]\n",
    "    X_train=df.iloc[:,:df.shape[1]-1]   \n",
    "    y_train=df['target_deathrate']\n",
    "    train_error,validation_error = calc_metrics(X_train, y_train,X_test,y_test,model)\n",
    "    return train_error,validation_error\n",
    "        "
   ]
  },
  {
   "cell_type": "code",
   "execution_count": 34,
   "metadata": {},
   "outputs": [
    {
     "name": "stdout",
     "output_type": "stream",
     "text": [
      "Column names\n",
      "['avganncount', 'avgdeathsperyear', 'target_deathrate', 'incidencerate', 'medincome', 'popest2015', 'povertypercent', 'studypercap', 'binnedinc', 'medianage', 'medianagemale', 'medianagefemale', 'geography', 'percentmarried', 'pctnohs18_24', 'pcths18_24', 'pctsomecol18_24', 'pctbachdeg18_24', 'pcths25_over', 'pctbachdeg25_over', 'pctemployed16_over', 'pctunemployed16_over', 'pctprivatecoverage', 'pctprivatecoveragealone', 'pctempprivcoverage', 'pctpubliccoverage', 'pctpubliccoveragealone', 'pctwhite', 'pctblack', 'pctasian', 'pctotherrace', 'pctmarriedhouseholds', 'birthrate']\n",
      "Coulmns with NaNs\n",
      "['pctsomecol18_24', 'pctemployed16_over', 'pctprivatecoveragealone']\n"
     ]
    }
   ],
   "source": [
    "mse=[]\n",
    "dataset=pd.read_csv('cancer_reg.csv')\n",
    "\n",
    "columns_with_nan = dataset.columns[dataset.isna().any()].tolist()\n",
    "\n",
    "print(\"Column names\")\n",
    "print(list(dataset))\n",
    "\n",
    "print (\"Coulmns with NaNs\")\n",
    "print(columns_with_nan)\n",
    "\n",
    "# Dropping Nan and binnedinc','geography' columns\n",
    "dataset = dataset.drop(['binnedinc','geography' ,'pctsomecol18_24', 'pctemployed16_over', 'pctprivatecoveragealone'], axis=1)\n"
   ]
  },
  {
   "cell_type": "code",
   "execution_count": 35,
   "metadata": {},
   "outputs": [
    {
     "data": {
      "text/plain": [
       "<matplotlib.axes._subplots.AxesSubplot at 0x1a2224e940>"
      ]
     },
     "execution_count": 35,
     "metadata": {},
     "output_type": "execute_result"
    },
    {
     "data": {
      "image/png": "[encoded data removed]",
      "text/plain": [
       "<Figure size 432x288 with 1 Axes>"
      ]
     },
     "metadata": {},
     "output_type": "display_data"
    }
   ],
   "source": [
    "sns.boxplot(x=\"medianage\",data=dataset)"
   ]
  },
  {
   "cell_type": "markdown",
   "metadata": {},
   "source": [
    "Median age is an outlier column. "
   ]
  },
  {
   "cell_type": "code",
   "execution_count": 36,
   "metadata": {},
   "outputs": [],
   "source": [
    "X = pd.concat([dataset.iloc[:, :2], dataset.iloc[:, 3:]], axis=1, join_axes=[dataset.index])\n",
    "y = dataset.iloc[:, 2]"
   ]
  },
  {
   "cell_type": "code",
   "execution_count": 37,
   "metadata": {},
   "outputs": [],
   "source": [
    "from sklearn.model_selection import train_test_split\n",
    "\n",
    "\n",
    "X_train, X_test, y_train, y_test = train_test_split(X, y, test_size=0.33, random_state=42)\n",
    "model = linear_model.LinearRegression()"
   ]
  },
  {
   "cell_type": "code",
   "execution_count": 38,
   "metadata": {},
   "outputs": [
    {
     "name": "stdout",
     "output_type": "stream",
     "text": [
      "349.19153240826796 428.8792221299869\n"
     ]
    }
   ],
   "source": [
    "#Original Data\n",
    "train_error,validation_error = calc_metrics(X_train, y_train,X_test,y_test,model)\n",
    "print(train_error,validation_error)\n",
    "mse.append(tuple((train_error,validation_error)))"
   ]
  },
  {
   "cell_type": "code",
   "execution_count": 39,
   "metadata": {},
   "outputs": [],
   "source": [
    "# removing the outliers with z score > 3 from all columns\n",
    "train_error,validation_error = removeoutliers(X_train, y_train,X_test,y_test,model)\n",
    "mse.append(tuple((train_error,validation_error)))"
   ]
  },
  {
   "cell_type": "code",
   "execution_count": 40,
   "metadata": {},
   "outputs": [
    {
     "name": "stdout",
     "output_type": "stream",
     "text": [
      "Dropping medianagefemale with vif=652.8007849294273\n",
      "Dropping pctprivatecoverage with vif=503.11947375841083\n",
      "Dropping percentmarried with vif=444.7509082670895\n",
      "Dropping pctpubliccoverage with vif=333.0216152371248\n",
      "Dropping pctmarriedhouseholds with vif=157.92894746634533\n",
      "Dropping pctwhite with vif=125.32025365490922\n",
      "Dropping medincome with vif=90.43780272813989\n",
      "Dropping pcths25_over with vif=81.39873489636692\n",
      "Dropping incidencerate with vif=72.51785925868775\n",
      "Dropping medianagemale with vif=54.425414822628426\n",
      "Dropping pctpubliccoveragealone with vif=38.85665859641698\n",
      "Dropping avgdeathsperyear with vif=36.19090283974342\n",
      "Dropping pctempprivcoverage with vif=23.119057418338848\n",
      "Dropping povertypercent with vif=15.788185767431067\n",
      "Dropping pcths18_24 with vif=11.545763538661635\n",
      "Dropping pctbachdeg25_over with vif=9.818671119414011\n",
      "Dropping avganncount with vif=7.547762594589293\n",
      "Dropping birthrate with vif=6.4147823189204916\n",
      "Dropping pctunemployed16_over with vif=5.67595851417137\n"
     ]
    }
   ],
   "source": [
    "#removing high VIF columns\n",
    "train_error,validation_error = removeVIF(X_train, y_train,X_test,y_test,model)\n",
    "mse.append(tuple((train_error,validation_error)))"
   ]
  },
  {
   "cell_type": "code",
   "execution_count": 41,
   "metadata": {},
   "outputs": [
    {
     "data": {
      "text/plain": [
       "<matplotlib.axes._subplots.AxesSubplot at 0x1a22310b38>"
      ]
     },
     "execution_count": 41,
     "metadata": {},
     "output_type": "execute_result"
    },
    {
     "data": {
      "image/png": "[encoded data removed]",
      "text/plain": [
       "<Figure size 432x288 with 1 Axes>"
      ]
     },
     "metadata": {},
     "output_type": "display_data"
    }
   ],
   "source": [
    "mse=pd.DataFrame(mse)\n",
    "mse.columns=['trainingerror','cverror']\n",
    "mse=mse.rename(index={0:'origdata',1:'wo_outliers',2:'wo_highVIFcol'})\n",
    "mse.plot()\n"
   ]
  },
  {
   "cell_type": "markdown",
   "metadata": {},
   "source": [
    "CV error is high for the data without outliers. Lets remove the median age column and run the same model"
   ]
  },
  {
   "cell_type": "code",
   "execution_count": 42,
   "metadata": {},
   "outputs": [],
   "source": [
    "X = X.drop(['medianage'], axis=1)\n",
    "\n",
    "\n",
    "mse2=[]\n",
    "\n",
    "X_train, X_test, y_train, y_test = train_test_split(X, y, test_size=0.33, random_state=42)\n",
    "model = linear_model.LinearRegression()\n",
    "\n"
   ]
  },
  {
   "cell_type": "code",
   "execution_count": 43,
   "metadata": {},
   "outputs": [
    {
     "name": "stdout",
     "output_type": "stream",
     "text": [
      "349.19187660408073 428.89449324131033\n",
      "Dropping medianagefemale with vif=652.6875388713578\n",
      "Dropping pctprivatecoverage with vif=503.09926857709127\n",
      "Dropping percentmarried with vif=444.7502299076549\n",
      "Dropping pctpubliccoverage with vif=332.8481311282319\n",
      "Dropping pctmarriedhouseholds with vif=157.91278329497783\n",
      "Dropping pctwhite with vif=125.27326894011543\n",
      "Dropping medincome with vif=90.41908356456436\n",
      "Dropping pcths25_over with vif=81.33741524342352\n",
      "Dropping incidencerate with vif=72.47320520160042\n",
      "Dropping medianagemale with vif=53.32100330159977\n",
      "Dropping pctpubliccoveragealone with vif=38.794253294183285\n",
      "Dropping avgdeathsperyear with vif=36.183078567968124\n",
      "Dropping pctempprivcoverage with vif=23.11591029211773\n",
      "Dropping povertypercent with vif=15.786894108175044\n",
      "Dropping pcths18_24 with vif=11.30969355783909\n",
      "Dropping pctbachdeg25_over with vif=9.695368137144293\n",
      "Dropping avganncount with vif=7.545445424773824\n",
      "Dropping birthrate with vif=6.341954222226651\n",
      "Dropping pctunemployed16_over with vif=5.471786524105114\n"
     ]
    }
   ],
   "source": [
    "#Original Data\n",
    "train_error,validation_error = calc_metrics(X_train, y_train,X_test,y_test,model)\n",
    "print(train_error,validation_error)\n",
    "mse2.append(tuple((train_error,validation_error)))\n",
    "\n",
    "# removing the outliers with z score > 3 from all columns\n",
    "train_error,validation_error = removeoutliers(X_train, y_train,X_test,y_test,model)\n",
    "mse2.append(tuple((train_error,validation_error)))\n",
    "\n",
    "\n",
    "#removing high VIF columns\n",
    "train_error,validation_error = removeVIF(X_train, y_train,X_test,y_test,model)\n",
    "mse2.append(tuple((train_error,validation_error)))"
   ]
  },
  {
   "cell_type": "code",
   "execution_count": 44,
   "metadata": {},
   "outputs": [
    {
     "data": {
      "text/plain": [
       "<matplotlib.axes._subplots.AxesSubplot at 0x1a2175c518>"
      ]
     },
     "execution_count": 44,
     "metadata": {},
     "output_type": "execute_result"
    },
    {
     "data": {
      "image/png": "[encoded data removed]",
      "text/plain": [
       "<Figure size 432x288 with 1 Axes>"
      ]
     },
     "metadata": {},
     "output_type": "display_data"
    }
   ],
   "source": [
    "mse2=pd.DataFrame(mse2)\n",
    "mse2.columns=['trainingerror','cverror']\n",
    "mse2=mse2.rename(index={0:'origdata',1:'wo_outliers',2:'wo_highVIFcol'})\n",
    "mse2.plot()"
   ]
  },
  {
   "cell_type": "markdown",
   "metadata": {},
   "source": [
    "cv error decreased when median age column is removed"
   ]
  },
  {
   "cell_type": "code",
   "execution_count": 45,
   "metadata": {},
   "outputs": [
    {
     "name": "stdout",
     "output_type": "stream",
     "text": [
      "               trainingerror      cverror\n",
      "origdata          349.191532   428.879222\n",
      "wo_outliers       300.591524  4593.854732\n",
      "wo_highVIFcol     623.845351   662.172485\n",
      "               trainingerror     cverror\n",
      "origdata          349.191877  428.894493\n",
      "wo_outliers       301.428678  468.760238\n",
      "wo_highVIFcol     623.851457  662.185477\n"
     ]
    }
   ],
   "source": [
    "print(mse)\n",
    "print (mse2)"
   ]
  },
  {
   "cell_type": "code",
   "execution_count": null,
   "metadata": {},
   "outputs": [],
   "source": []
  }
 ],
 "metadata": {
  "kernelspec": {
   "display_name": "Python 3",
   "language": "python",
   "name": "python3"
  },
  "language_info": {
   "codemirror_mode": {
    "name": "ipython",
    "version": 3
   },
   "file_extension": ".py",
   "mimetype": "text/x-python",
   "name": "python",
   "nbconvert_exporter": "python",
   "pygments_lexer": "ipython3",
   "version": "3.6.8"
  }
 },
 "nbformat": 4,
 "nbformat_minor": 2
}
