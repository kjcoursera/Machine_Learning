{
  "nbformat": 4,
  "nbformat_minor": 0,
  "metadata": {
    "colab": {
      "name": "Intro_neural_net.ipynb",
      "provenance": [],
      "authorship_tag": "ABX9TyOYxzjbE8VfmpkXSHnstwCG",
      "include_colab_link": true
    },
    "kernelspec": {
      "name": "python3",
      "display_name": "Python 3"
    }
  },
  "cells": [
    {
      "cell_type": "markdown",
      "metadata": {
        "id": "view-in-github",
        "colab_type": "text"
      },
      "source": [
        "<a href=\"https://colab.research.google.com/github/kjcoursera/Machine_Learning/blob/main/Intro_neural_net.ipynb\" target=\"_parent\"><img src=\"https://colab.research.google.com/assets/colab-badge.svg\" alt=\"Open In Colab\"/></a>"
      ]
    },
    {
      "cell_type": "code",
      "metadata": {
        "id": "hoBes0KOCQaZ",
        "outputId": "55c92176-de83-43de-ed44-136725a150bf",
        "colab": {
          "base_uri": "https://localhost:8080/",
          "height": 34
        }
      },
      "source": [
        "# TensorFlow and tf.keras\n",
        "import tensorflow as tf\n",
        "\n",
        "# Helper libraries\n",
        "import numpy as np\n",
        "import pandas as pd\n",
        "import matplotlib.pyplot as plt\n",
        "\n",
        "print(tf.__version__)"
      ],
      "execution_count": 1,
      "outputs": [
        {
          "output_type": "stream",
          "text": [
            "2.3.0\n"
          ],
          "name": "stdout"
        }
      ]
    },
    {
      "cell_type": "code",
      "metadata": {
        "id": "k4MGSofYCaI0"
      },
      "source": [
        "train_df = pd.read_csv(\"https://download.mlcc.google.com/mledu-datasets/california_housing_train.csv\")\n",
        "#shuffle the training dataset\n",
        "train_df = train_df.reindex(np.random.permutation(train_df.index))\n",
        "\n",
        "test_df = pd.read_csv(\"https://download.mlcc.google.com/mledu-datasets/california_housing_test.csv\")\n"
      ],
      "execution_count": 2,
      "outputs": []
    },
    {
      "cell_type": "code",
      "metadata": {
        "id": "GkDQgbS3CsLo",
        "outputId": "35dfd3fd-fe25-4dda-9413-195840767fcc",
        "colab": {
          "base_uri": "https://localhost:8080/",
          "height": 206
        }
      },
      "source": [
        "#Normalize the train_df\n",
        "train_df_mean = train_df.mean()\n",
        "train_df_std = train_df.std()\n",
        "\n",
        "train_df_norm = (train_df-train_df_mean)/train_df_std\n",
        "\n",
        "train_df_norm.head()"
      ],
      "execution_count": 4,
      "outputs": [
        {
          "output_type": "execute_result",
          "data": {
            "text/html": [
              "<div>\n",
              "<style scoped>\n",
              "    .dataframe tbody tr th:only-of-type {\n",
              "        vertical-align: middle;\n",
              "    }\n",
              "\n",
              "    .dataframe tbody tr th {\n",
              "        vertical-align: top;\n",
              "    }\n",
              "\n",
              "    .dataframe thead th {\n",
              "        text-align: right;\n",
              "    }\n",
              "</style>\n",
              "<table border=\"1\" class=\"dataframe\">\n",
              "  <thead>\n",
              "    <tr style=\"text-align: right;\">\n",
              "      <th></th>\n",
              "      <th>longitude</th>\n",
              "      <th>latitude</th>\n",
              "      <th>housing_median_age</th>\n",
              "      <th>total_rooms</th>\n",
              "      <th>total_bedrooms</th>\n",
              "      <th>population</th>\n",
              "      <th>households</th>\n",
              "      <th>median_income</th>\n",
              "      <th>median_house_value</th>\n",
              "    </tr>\n",
              "  </thead>\n",
              "  <tbody>\n",
              "    <tr>\n",
              "      <th>470</th>\n",
              "      <td>1.287728</td>\n",
              "      <td>-0.793147</td>\n",
              "      <td>0.350415</td>\n",
              "      <td>-1.040238</td>\n",
              "      <td>-1.082827</td>\n",
              "      <td>-1.012825</td>\n",
              "      <td>-1.074641</td>\n",
              "      <td>-0.904264</td>\n",
              "      <td>-1.198451</td>\n",
              "    </tr>\n",
              "    <tr>\n",
              "      <th>13303</th>\n",
              "      <td>-1.175908</td>\n",
              "      <td>0.853760</td>\n",
              "      <td>-1.476877</td>\n",
              "      <td>0.593288</td>\n",
              "      <td>1.220854</td>\n",
              "      <td>0.524829</td>\n",
              "      <td>1.302343</td>\n",
              "      <td>-0.325905</td>\n",
              "      <td>0.387115</td>\n",
              "    </tr>\n",
              "    <tr>\n",
              "      <th>4690</th>\n",
              "      <td>0.739145</td>\n",
              "      <td>-0.694894</td>\n",
              "      <td>1.859916</td>\n",
              "      <td>-0.624632</td>\n",
              "      <td>-0.831343</td>\n",
              "      <td>-0.869949</td>\n",
              "      <td>-0.817178</td>\n",
              "      <td>1.169884</td>\n",
              "      <td>2.271862</td>\n",
              "    </tr>\n",
              "    <tr>\n",
              "      <th>5535</th>\n",
              "      <td>0.694261</td>\n",
              "      <td>-0.741681</td>\n",
              "      <td>1.224337</td>\n",
              "      <td>-0.895739</td>\n",
              "      <td>-0.912008</td>\n",
              "      <td>-0.711392</td>\n",
              "      <td>-0.934207</td>\n",
              "      <td>-1.004571</td>\n",
              "      <td>-0.632855</td>\n",
              "    </tr>\n",
              "    <tr>\n",
              "      <th>13104</th>\n",
              "      <td>-1.155960</td>\n",
              "      <td>0.825688</td>\n",
              "      <td>-1.238534</td>\n",
              "      <td>0.316675</td>\n",
              "      <td>0.060710</td>\n",
              "      <td>0.706036</td>\n",
              "      <td>0.155461</td>\n",
              "      <td>1.688238</td>\n",
              "      <td>0.574210</td>\n",
              "    </tr>\n",
              "  </tbody>\n",
              "</table>\n",
              "</div>"
            ],
            "text/plain": [
              "       longitude  latitude  ...  median_income  median_house_value\n",
              "470     1.287728 -0.793147  ...      -0.904264           -1.198451\n",
              "13303  -1.175908  0.853760  ...      -0.325905            0.387115\n",
              "4690    0.739145 -0.694894  ...       1.169884            2.271862\n",
              "5535    0.694261 -0.741681  ...      -1.004571           -0.632855\n",
              "13104  -1.155960  0.825688  ...       1.688238            0.574210\n",
              "\n",
              "[5 rows x 9 columns]"
            ]
          },
          "metadata": {
            "tags": []
          },
          "execution_count": 4
        }
      ]
    },
    {
      "cell_type": "code",
      "metadata": {
        "id": "IPvlr2m4Cvu6"
      },
      "source": [
        "#normalize test_df\n",
        "test_df_mean = test_df.mean()\n",
        "test_df_std = test_df.std()\n",
        "\n",
        "test_df_norm = (test_df-test_df_mean)/test_df_std"
      ],
      "execution_count": 5,
      "outputs": []
    },
    {
      "cell_type": "code",
      "metadata": {
        "id": "JdBwJ6L2CzhB"
      },
      "source": [
        "# Create an empty list that will hold all feature columns\n",
        "feature_columns = []\n",
        "resolution_in_Zs = 0.3 # 3/10\n",
        "# Create a bucket feature column for latitude.\n",
        "latitude_as_a_numeric_column = tf.feature_column.numeric_column(\"latitude\")\n",
        "latitude_boundaries = list(np.arange(int(min(train_df_norm['latitude'])), \n",
        "                                     int(max(train_df_norm['latitude'])), \n",
        "                                     resolution_in_Zs))\n",
        "latitude = tf.feature_column.bucketized_column(latitude_as_a_numeric_column, latitude_boundaries)\n",
        "\n",
        "\n",
        "# Create a bucket feature column for longitude\n",
        "longitude_as_a_numeric_column = tf.feature_column.numeric_column(\"longitude\")\n",
        "longitude_boundaries = list(np.arange(int(min(train_df_norm[\"longitude\"])),\n",
        "                                     int(max(train_df_norm[\"longitude\"])),\n",
        "                                     resolution_in_Zs))\n",
        "longitude = tf.feature_column.bucketized_column(longitude_as_a_numeric_column,longitude_boundaries)\n",
        "\n",
        "#Create a feature cross of latitude and longitude\n",
        "latitude_X_longitude = tf.feature_column.crossed_column([latitude,longitude], hash_bucket_size = 100)\n",
        "crossed_feature = tf.feature_column.indicator_column(latitude_X_longitude)\n",
        "feature_columns.append(crossed_feature)\n",
        "\n",
        "# Represent median_income as a floating-point value.\n",
        "median_income = tf.feature_column.numeric_column(\"median_income\")\n",
        "feature_columns.append(median_income)\n",
        "\n",
        "# Represent population as a floating-point value.\n",
        "population = tf.feature_column.numeric_column(\"population\")\n",
        "feature_columns.append(population)\n",
        "\n",
        "# Convert the list of feature columns into a layer that will later be fed into\n",
        "# the model.\n",
        "my_feature_layer = tf.keras.layers.DenseFeatures(feature_columns)"
      ],
      "execution_count": 6,
      "outputs": []
    },
    {
      "cell_type": "code",
      "metadata": {
        "id": "GBXkf1X1C3xm"
      },
      "source": [
        ""
      ],
      "execution_count": null,
      "outputs": []
    }
  ]
}